{
  "nbformat": 4,
  "nbformat_minor": 0,
  "metadata": {
    "colab": {
      "provenance": []
    },
    "kernelspec": {
      "name": "python3",
      "display_name": "Python 3"
    },
    "language_info": {
      "name": "python"
    }
  },
  "cells": [
    {
      "cell_type": "markdown",
      "source": [
        "1. Write a Python program to Extract Unique values dictionary values?\n",
        "2. Write a Python program to find the sum of all items in a dictionary?\n",
        "3. Write a Python program to Merging two Dictionaries?\n",
        "4. Write a Python program to convert key-values list to flat dictionary?\n",
        "5. Write a Python program to insertion at the beginning in OrderedDict?\n",
        "6. Write a Python program to check order of character in string using OrderedDict()?\n",
        "7. Write a Python program to sort Python Dictionaries by Key or Value?"
      ],
      "metadata": {
        "id": "TqmKlz0FwCsp"
      }
    },
    {
      "cell_type": "code",
      "source": [
        "def get_unique_values(d):\n",
        "    unique_values = []\n",
        "    for value in d.values():\n",
        "        if value not in unique_values:\n",
        "            unique_values.append(value)\n",
        "    return unique_values\n",
        "\n",
        "# Example usage:\n",
        "my_dict = {'a': 1, 'b': 2, 'c': 2, 'd': 3, 'e': 3}\n",
        "unique_values = get_unique_values(my_dict)\n",
        "print(unique_values)\n"
      ],
      "metadata": {
        "colab": {
          "base_uri": "https://localhost:8080/"
        },
        "id": "vlLitv9ywD4A",
        "outputId": "c698eaa1-e922-4106-c5ec-339028fadee5"
      },
      "execution_count": 8,
      "outputs": [
        {
          "output_type": "stream",
          "name": "stdout",
          "text": [
            "[1, 2, 3]\n"
          ]
        }
      ]
    },
    {
      "cell_type": "code",
      "source": [
        "def sum_dict_items(d):\n",
        "    sum = 0\n",
        "    for key in d:\n",
        "        sum += d[key]\n",
        "    return sum\n",
        "\n",
        "# Example usage:\n",
        "my_dict = {'a': 1, 'b': 2, 'c': 3}\n",
        "sum = sum_dict_items(my_dict)\n",
        "print(sum)"
      ],
      "metadata": {
        "colab": {
          "base_uri": "https://localhost:8080/"
        },
        "id": "6HmyJ_FgwJHU",
        "outputId": "4aa407c6-fed1-4d13-e840-0c50868e0874"
      },
      "execution_count": 9,
      "outputs": [
        {
          "output_type": "stream",
          "name": "stdout",
          "text": [
            "6\n"
          ]
        }
      ]
    },
    {
      "cell_type": "code",
      "source": [
        "def merge_dicts(d1, d2):\n",
        "    merged_dict = d1.copy()\n",
        "    merged_dict.update(d2)\n",
        "    return merged_dict\n",
        "\n",
        "# Example usage:\n",
        "dict1 = {'a': 1, 'b': 2}\n",
        "dict2 = {'c': 3, 'd': 4}\n",
        "merged_dict = merge_dicts(dict1, dict2)\n",
        "print(merged_dict)\n"
      ],
      "metadata": {
        "colab": {
          "base_uri": "https://localhost:8080/"
        },
        "id": "lqfkX-1OwMqA",
        "outputId": "1c56f2a1-3883-4fef-fdf3-74a9a7816897"
      },
      "execution_count": 10,
      "outputs": [
        {
          "output_type": "stream",
          "name": "stdout",
          "text": [
            "{'a': 1, 'b': 2, 'c': 3, 'd': 4}\n"
          ]
        }
      ]
    },
    {
      "cell_type": "code",
      "source": [
        "def key_value_list_to_dict(lst):\n",
        "    dict = {}\n",
        "    for item in lst:\n",
        "        dict[item[0]] = item[1]\n",
        "    return dict\n",
        "\n",
        "# Example usage:\n",
        "key_values_list = [('a', 1), ('b', 2), ('c', 3)]\n",
        "flat_dict = key_value_list_to_dict(key_values_list)\n",
        "print(flat_dict)\n"
      ],
      "metadata": {
        "colab": {
          "base_uri": "https://localhost:8080/"
        },
        "id": "MailkHswwQLW",
        "outputId": "3ee59939-bad1-4dd0-b692-25ce4f940152"
      },
      "execution_count": 11,
      "outputs": [
        {
          "output_type": "stream",
          "name": "stdout",
          "text": [
            "{'a': 1, 'b': 2, 'c': 3}\n"
          ]
        }
      ]
    },
    {
      "cell_type": "code",
      "source": [
        "from collections import OrderedDict\n",
        "\n",
        "def insert_at_beginning(od, key, value):\n",
        "    new_od = OrderedDict([(key, value)])\n",
        "    new_od.update(od)\n",
        "    return new_od\n",
        "\n",
        "# Example usage:\n",
        "od = OrderedDict([('a', 1), ('b', 2)])\n",
        "new_od = insert_at_beginning(od, 'c', 3)\n",
        "print(new_od)\n"
      ],
      "metadata": {
        "colab": {
          "base_uri": "https://localhost:8080/"
        },
        "id": "qWu6NqcjwTYx",
        "outputId": "28b08434-14b4-4ea1-8f2f-9c5f0774d6b5"
      },
      "execution_count": 12,
      "outputs": [
        {
          "output_type": "stream",
          "name": "stdout",
          "text": [
            "OrderedDict([('c', 3), ('a', 1), ('b', 2)])\n"
          ]
        }
      ]
    },
    {
      "cell_type": "code",
      "source": [
        "from collections import OrderedDict\n",
        "\n",
        "def check_order(s, pattern):\n",
        "    od = OrderedDict.fromkeys(pattern)\n",
        "    j = 0\n",
        "    for char in s:\n",
        "        if j < len(pattern) and char == pattern[j]:\n",
        "            j += 1\n",
        "    return j == len(pattern)\n",
        "\n",
        "# Example usage:\n",
        "s1 = \"hello world\"\n",
        "pattern1 = \"hlo\"\n",
        "print(check_order(s1, pattern1)) # True\n",
        "\n",
        "s2 = \"hello world\"\n",
        "pattern2 = \"ohe\"\n",
        "print(check_order(s2, pattern2)) # False\n"
      ],
      "metadata": {
        "colab": {
          "base_uri": "https://localhost:8080/"
        },
        "id": "SQm_d7RJwbEV",
        "outputId": "42dee8bb-54fb-47cc-860f-20522b8b6c3d"
      },
      "execution_count": 15,
      "outputs": [
        {
          "output_type": "stream",
          "name": "stdout",
          "text": [
            "True\n",
            "False\n"
          ]
        }
      ]
    },
    {
      "cell_type": "code",
      "source": [
        "# Example dictionary\n",
        "d = {'apple': 2, 'banana': 1, 'cherry': 3}\n",
        "\n",
        "# Sort dictionary by key\n",
        "sorted_dict_key = dict(sorted(d.items()))\n",
        "\n",
        "# Sort dictionary by value\n",
        "sorted_dict_value = dict(sorted(d.items(), key=lambda x: x[1]))\n",
        "\n",
        "# Print sorted dictionaries\n",
        "print(\"Sorted by key:\", sorted_dict_key)\n",
        "print(\"Sorted by value:\", sorted_dict_value)\n"
      ],
      "metadata": {
        "colab": {
          "base_uri": "https://localhost:8080/"
        },
        "id": "IL3bqmB_wtvi",
        "outputId": "85636c81-e55d-4145-8ec4-7a9f71567f66"
      },
      "execution_count": 16,
      "outputs": [
        {
          "output_type": "stream",
          "name": "stdout",
          "text": [
            "Sorted by key: {'apple': 2, 'banana': 1, 'cherry': 3}\n",
            "Sorted by value: {'banana': 1, 'apple': 2, 'cherry': 3}\n"
          ]
        }
      ]
    }
  ]
}