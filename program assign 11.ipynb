{
  "nbformat": 4,
  "nbformat_minor": 0,
  "metadata": {
    "colab": {
      "provenance": []
    },
    "kernelspec": {
      "name": "python3",
      "display_name": "Python 3"
    },
    "language_info": {
      "name": "python"
    }
  },
  "cells": [
    {
      "cell_type": "markdown",
      "source": [
        "1. Write a Python program to find words which are greater than given length k?\n",
        "2. Write a Python program for removing i-th character from a string?\n",
        "3. Write a Python program to split and join a string?\n",
        "4. Write a Python to check if a given string is binary string or not?\n",
        "5. Write a Python program to find uncommon words from two Strings?\n",
        "6. Write a Python to find all duplicate characters in string?\n",
        "7. Write a Python Program to check if a string contains any special character?"
      ],
      "metadata": {
        "id": "2JWfBGGKuchN"
      }
    },
    {
      "cell_type": "code",
      "execution_count": 1,
      "metadata": {
        "colab": {
          "base_uri": "https://localhost:8080/"
        },
        "id": "Dl08gPAXuZGu",
        "outputId": "24666f83-6d80-40d6-df94-1a92c907d4da"
      },
      "outputs": [
        {
          "output_type": "stream",
          "name": "stdout",
          "text": [
            "Words longer than 4 characters:\n",
            "['quick', 'brown', 'jumps']\n"
          ]
        }
      ],
      "source": [
        "def find_long_words(text, k):\n",
        "    words = text.split()\n",
        "    long_words = []\n",
        "    for word in words:\n",
        "        if len(word) > k:\n",
        "            long_words.append(word)\n",
        "    return long_words\n",
        "\n",
        "# Example usage:\n",
        "text = \"The quick brown fox jumps over the lazy dog\"\n",
        "k = 4\n",
        "long_words = find_long_words(text, k)\n",
        "print(\"Words longer than {} characters:\".format(k))\n",
        "print(long_words)\n"
      ]
    },
    {
      "cell_type": "code",
      "source": [
        "def remove_character(string, i):\n",
        "    # Check if i is out of bounds\n",
        "    if i < 0 or i >= len(string):\n",
        "        return string\n",
        "    # Remove the i-th character from the string\n",
        "    return string[:i] + string[i+1:]\n",
        "\n",
        "# Example usage:\n",
        "text = \"Hello, World!\"\n",
        "index_to_remove = 5\n",
        "new_text = remove_character(text, index_to_remove)\n",
        "print(\"Original text: \", text)\n",
        "print(\"Text with character at index {} removed: \".format(index_to_remove), new_text)"
      ],
      "metadata": {
        "colab": {
          "base_uri": "https://localhost:8080/"
        },
        "id": "f9DNRO6OvGf3",
        "outputId": "107b977d-eb87-4248-a8f6-0d0a8b5ba209"
      },
      "execution_count": 2,
      "outputs": [
        {
          "output_type": "stream",
          "name": "stdout",
          "text": [
            "Original text:  Hello, World!\n",
            "Text with character at index 5 removed:  Hello World!\n"
          ]
        }
      ]
    },
    {
      "cell_type": "code",
      "source": [
        "def split_and_join(text):\n",
        "    # Split the string into a list of words\n",
        "    words = text.split()\n",
        "    # Join the list of words into a string\n",
        "    new_text = \" \".join(words)\n",
        "    return new_text\n",
        "\n",
        "# Example usage:\n",
        "text = \"The quick brown fox jumps over the lazy dog\"\n",
        "new_text = split_and_join(text)\n",
        "print(\"Original text: \", text)\n",
        "print(\"Modified text: \", new_text)\n"
      ],
      "metadata": {
        "colab": {
          "base_uri": "https://localhost:8080/"
        },
        "id": "sDdmy84ivMon",
        "outputId": "63f7a00c-d9b1-439c-cbfe-9208008c01cf"
      },
      "execution_count": 3,
      "outputs": [
        {
          "output_type": "stream",
          "name": "stdout",
          "text": [
            "Original text:  The quick brown fox jumps over the lazy dog\n",
            "Modified text:  The quick brown fox jumps over the lazy dog\n"
          ]
        }
      ]
    },
    {
      "cell_type": "code",
      "source": [
        "def is_binary_string(string):\n",
        "    for char in string:\n",
        "        if char != '0' and char != '1':\n",
        "            return False\n",
        "    return True\n",
        "\n",
        "# Example usage:\n",
        "text = \"101010\"\n",
        "if is_binary_string(text):\n",
        "    print(text, \"is a binary string\")\n",
        "else:\n",
        "    print(text, \"is not a binary string\")"
      ],
      "metadata": {
        "colab": {
          "base_uri": "https://localhost:8080/"
        },
        "id": "MnfsAgAVvSKO",
        "outputId": "2db4f234-fb80-4cd2-fcc3-0ef92c30fa1e"
      },
      "execution_count": 4,
      "outputs": [
        {
          "output_type": "stream",
          "name": "stdout",
          "text": [
            "101010 is a binary string\n"
          ]
        }
      ]
    },
    {
      "cell_type": "code",
      "source": [
        "def uncommon_words(string1, string2):\n",
        "    # Split the strings into lists of words\n",
        "    words1 = string1.split()\n",
        "    words2 = string2.split()\n",
        "    # Find the words that are unique to each string\n",
        "    unique_words1 = set(words1) - set(words2)\n",
        "    unique_words2 = set(words2) - set(words1)\n",
        "    # Combine the unique words into a single set\n",
        "    uncommon_words = unique_words1.union(unique_words2)\n",
        "    return uncommon_words\n",
        "\n",
        "# Example usage:\n",
        "text1 = \"The quick brown fox jumps over the lazy dog\"\n",
        "text2 = \"The quick red fox jumps over the lazy cat\"\n",
        "result = uncommon_words(text1, text2)\n",
        "print(result)\n"
      ],
      "metadata": {
        "colab": {
          "base_uri": "https://localhost:8080/"
        },
        "id": "8icyBFOPvV_7",
        "outputId": "8d80e546-39f0-4bbb-e11d-700c5b844382"
      },
      "execution_count": 5,
      "outputs": [
        {
          "output_type": "stream",
          "name": "stdout",
          "text": [
            "{'brown', 'cat', 'red', 'dog'}\n"
          ]
        }
      ]
    },
    {
      "cell_type": "code",
      "source": [
        "def find_duplicate_chars(string):\n",
        "    # Create an empty set to store the duplicate characters\n",
        "    duplicates = set()\n",
        "    # Create an empty set to store the non-duplicate characters\n",
        "    seen = set()\n",
        "    # Iterate over each character in the string\n",
        "    for char in string:\n",
        "        # Check if the character has been seen before\n",
        "        if char in seen:\n",
        "            # If it has, add it to the duplicates set\n",
        "            duplicates.add(char)\n",
        "        else:\n",
        "            # If it hasn't, add it to the seen set\n",
        "            seen.add(char)\n",
        "    return duplicates\n",
        "\n",
        "# Example usage:\n",
        "text = \"Hello, World!\"\n",
        "result = find_duplicate_chars(text)\n",
        "print(result)\n"
      ],
      "metadata": {
        "colab": {
          "base_uri": "https://localhost:8080/"
        },
        "id": "Od7O7yVavZ2E",
        "outputId": "69944f09-236b-4c89-ca6c-ffa6b3ce9e58"
      },
      "execution_count": 6,
      "outputs": [
        {
          "output_type": "stream",
          "name": "stdout",
          "text": [
            "{'o', 'l'}\n"
          ]
        }
      ]
    },
    {
      "cell_type": "code",
      "source": [
        "import re\n",
        "\n",
        "def contains_special_chars(string):\n",
        "    # Define the regular expression for special characters\n",
        "    regex = re.compile('[@_!#$%^&*()<>?/\\|}{~:]')\n",
        "\n",
        "    # Check if the string matches the regular expression\n",
        "    if regex.search(string) is None:\n",
        "        return False\n",
        "    else:\n",
        "        return True\n",
        "\n",
        "# Example usage:\n",
        "text1 = \"This is a normal string\"\n",
        "text2 = \"This string contains a special character: @\"\n",
        "\n",
        "print(contains_special_chars(text1))\n",
        "print(contains_special_chars(text2))\n"
      ],
      "metadata": {
        "colab": {
          "base_uri": "https://localhost:8080/"
        },
        "id": "M1dLWKuUveTf",
        "outputId": "69d59b38-163e-4130-b469-3eb1953e63d9"
      },
      "execution_count": 7,
      "outputs": [
        {
          "output_type": "stream",
          "name": "stdout",
          "text": [
            "False\n",
            "True\n"
          ]
        }
      ]
    }
  ]
}